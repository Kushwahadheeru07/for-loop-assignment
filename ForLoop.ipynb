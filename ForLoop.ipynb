{
  "nbformat": 4,
  "nbformat_minor": 0,
  "metadata": {
    "colab": {
      "provenance": []
    },
    "kernelspec": {
      "name": "python3",
      "display_name": "Python 3"
    },
    "language_info": {
      "name": "python"
    }
  },
  "cells": [
    {
      "cell_type": "markdown",
      "source": [
        "1. Write a Python program to print the numbers from 1 to 10 using a for loop.  "
      ],
      "metadata": {
        "id": "GIXNoqB2Nbyw"
      }
    },
    {
      "cell_type": "code",
      "source": [
        "for i in range(1, 11):\n",
        "    print(i)\n"
      ],
      "metadata": {
        "colab": {
          "base_uri": "https://localhost:8080/"
        },
        "id": "BuJg9r6pPLwo",
        "outputId": "7ffd4e69-4ba7-4f1b-dcbf-c45b6490f966"
      },
      "execution_count": 1,
      "outputs": [
        {
          "output_type": "stream",
          "name": "stdout",
          "text": [
            "1\n",
            "2\n",
            "3\n",
            "4\n",
            "5\n",
            "6\n",
            "7\n",
            "8\n",
            "9\n",
            "10\n"
          ]
        }
      ]
    },
    {
      "cell_type": "markdown",
      "source": [
        "2. Create a program that calculates the sum of all numbers in a list using a for loop."
      ],
      "metadata": {
        "id": "GdHmBXXLNfnp"
      }
    },
    {
      "cell_type": "code",
      "source": [
        "numbers = [1, 2, 3, 4, 5]\n",
        "total = 0\n",
        "for num in numbers:\n",
        "    total += num\n",
        "print(\"Sum:\", total)\n"
      ],
      "metadata": {
        "id": "6xlluNBIPNWY"
      },
      "execution_count": null,
      "outputs": []
    },
    {
      "cell_type": "markdown",
      "source": [
        " 3. Write a program to print the characters of a string in reverse order using a for loop."
      ],
      "metadata": {
        "id": "S0VWN5aLNiJ-"
      }
    },
    {
      "cell_type": "code",
      "source": [
        "text = \"Hello\"\n",
        "for char in reversed(text):\n",
        "    print(char, end=\"\")\n",
        "print()\n"
      ],
      "metadata": {
        "colab": {
          "base_uri": "https://localhost:8080/"
        },
        "id": "G4xWxnFXQT3Z",
        "outputId": "91497c25-dc20-4f29-ed89-36dab589974f"
      },
      "execution_count": 2,
      "outputs": [
        {
          "output_type": "stream",
          "name": "stdout",
          "text": [
            "olleH\n"
          ]
        }
      ]
    },
    {
      "cell_type": "markdown",
      "source": [
        "4. Find factorial of a given number:"
      ],
      "metadata": {
        "id": "wwASOtorPd5D"
      }
    },
    {
      "cell_type": "code",
      "source": [
        "num = 5\n",
        "factorial = 1\n",
        "for i in range(1, num + 1):\n",
        "    factorial *= i\n",
        "print(\"Factorial:\", factorial)\n"
      ],
      "metadata": {
        "id": "F2e1cGRdPco2"
      },
      "execution_count": null,
      "outputs": []
    },
    {
      "cell_type": "markdown",
      "source": [
        " 5. Create a program to print the multiplication table of a given number using a for loop."
      ],
      "metadata": {
        "id": "TdB5phK6Nrfx"
      }
    },
    {
      "cell_type": "code",
      "source": [
        "num = 3\n",
        "for i in range(1, 11):\n",
        "    print(f\"{num} x {i} = {num * i}\")\n"
      ],
      "metadata": {
        "id": "ASwcJtgKPcVU"
      },
      "execution_count": null,
      "outputs": []
    },
    {
      "cell_type": "markdown",
      "source": [
        " 6. Write a program that counts the number of even and odd numbers in a list using a for loop.  \n",
        ""
      ],
      "metadata": {
        "id": "3bHeY-_xNto3"
      }
    },
    {
      "cell_type": "code",
      "source": [
        "numbers = [1, 2, 3, 4, 5, 6]\n",
        "even_count = 0\n",
        "odd_count = 0\n",
        "for num in numbers:\n",
        "    if num % 2 == 0:\n",
        "        even_count += 1\n",
        "    else:\n",
        "        odd_count += 1\n",
        "print(\"Even numbers:\", even_count)\n",
        "print(\"Odd numbers:\", odd_count)\n",
        "\n"
      ],
      "metadata": {
        "id": "Y4ZWPsAbQnEQ"
      },
      "execution_count": null,
      "outputs": []
    },
    {
      "cell_type": "markdown",
      "source": [
        "7. Develop a program that prints the squares of numbers from 1 to 5 using a for loop.\n"
      ],
      "metadata": {
        "id": "kKKfQ7uyNtro"
      }
    },
    {
      "cell_type": "code",
      "source": [
        "for i in range(1, 6):\n",
        "    print(f\"Square of {i} is {i ** 2}\")\n"
      ],
      "metadata": {
        "id": "fj81Wn46PcmD"
      },
      "execution_count": null,
      "outputs": []
    },
    {
      "cell_type": "markdown",
      "source": [
        " 8. Create a program to find the length of a string without using the len() function.  "
      ],
      "metadata": {
        "id": "yf8mgMwDNtuR"
      }
    },
    {
      "cell_type": "code",
      "source": [
        "text = \"Hello\"\n",
        "length = 0\n",
        "for char in text:\n",
        "    length += 1\n",
        "print(\"Length:\", length)\n"
      ],
      "metadata": {
        "id": "D7WwNQLzPdAD"
      },
      "execution_count": null,
      "outputs": []
    },
    {
      "cell_type": "markdown",
      "source": [
        "9. Write a program that calculates the average of a list of numbers using a for loop."
      ],
      "metadata": {
        "id": "L5Km9vl7NtxX"
      }
    },
    {
      "cell_type": "code",
      "source": [
        "numbers = [10, 20, 30, 40, 50]\n",
        "total = 0\n",
        "for num in numbers:\n",
        "    total += num\n",
        "average = total / len(numbers)\n",
        "print(\"Average:\", average)\n"
      ],
      "metadata": {
        "id": "s2_Pyc4jPcau"
      },
      "execution_count": null,
      "outputs": []
    },
    {
      "cell_type": "markdown",
      "source": [
        " 10. Develop a program that prints the first n Fibonacci numbers using a for loop.   "
      ],
      "metadata": {
        "id": "dwMz-BNpNtz7"
      }
    },
    {
      "cell_type": "code",
      "source": [
        "n = 10\n",
        "a, b = 0, 1\n",
        "for _ in range(n):\n",
        "    print(a, end=\" \")\n",
        "    a, b = b, a + b\n",
        "print()\n"
      ],
      "metadata": {
        "id": "z2lqozhzPdGc"
      },
      "execution_count": null,
      "outputs": []
    },
    {
      "cell_type": "markdown",
      "source": [
        " 11. Write a program to check if a given list contains any duplicates using a for loop."
      ],
      "metadata": {
        "id": "wh9E8KZkNt2l"
      }
    },
    {
      "cell_type": "code",
      "source": [
        "nums = [1, 2, 3, 4, 2]\n",
        "found_duplicates = False\n",
        "for i in range(len(nums)):\n",
        "    for j in range(i + 1, len(nums)):\n",
        "        if nums[i] == nums[j]:\n",
        "            found_duplicates = True\n",
        "            break\n",
        "    if found_duplicates:\n",
        "        break\n",
        "print(\"Contains duplicates:\", found_duplicates)\n"
      ],
      "metadata": {
        "id": "t5kQOTknPdDA"
      },
      "execution_count": null,
      "outputs": []
    },
    {
      "cell_type": "markdown",
      "source": [
        " 12. Create a program that prints the prime numbers in a given range using a for loop.  "
      ],
      "metadata": {
        "id": "HZe05ooVNt5u"
      }
    },
    {
      "cell_type": "code",
      "source": [
        "start = 10\n",
        "end = 30\n",
        "for num in range(start, end + 1):\n",
        "    if num > 1:  # Prime numbers are greater than 1\n",
        "        is_prime = True\n",
        "        for i in range(2, int(num ** 0.5) + 1):\n",
        "            if num % i == 0:\n",
        "                is_prime = False\n",
        "                break\n",
        "        if is_prime:\n",
        "            print(num, end=\" \")\n",
        "print()\n"
      ],
      "metadata": {
        "id": "6KMr55OkPczz"
      },
      "execution_count": null,
      "outputs": []
    },
    {
      "cell_type": "markdown",
      "source": [
        "13. Develop a program that counts the number of vowels in a string using a for loop."
      ],
      "metadata": {
        "id": "CdJmvO5WNt8j"
      }
    },
    {
      "cell_type": "code",
      "source": [
        "text = \"Hello World\"\n",
        "vowels = \"aeiouAEIOU\"\n",
        "count = 0\n",
        "for char in text:\n",
        "    if char in vowels:\n",
        "        count += 1\n",
        "print(\"Number of vowels:\", count)\n"
      ],
      "metadata": {
        "id": "otAyn_0xPc5q"
      },
      "execution_count": null,
      "outputs": []
    },
    {
      "cell_type": "markdown",
      "source": [
        " 14. Write a program to find the maximum element in a 2D list using a nested for loop."
      ],
      "metadata": {
        "id": "dTQiZ9xbNt_X"
      }
    },
    {
      "cell_type": "code",
      "source": [
        "matrix = [[1, 2, 3], [4, 5, 6], [7, 8, 9]]\n",
        "max_element = float('-inf')\n",
        "for row in matrix:\n",
        "    for element in row:\n",
        "        if element > max_element:\n",
        "            max_element = element\n",
        "print(\"Maximum element:\", max_element)\n"
      ],
      "metadata": {
        "id": "DIv6xeNyPcdn"
      },
      "execution_count": null,
      "outputs": []
    },
    {
      "cell_type": "markdown",
      "source": [
        "  15. Create a program that removes all occurrences of a specific element from a list using a for loop.  "
      ],
      "metadata": {
        "id": "VPmWnhYqNuCY"
      }
    },
    {
      "cell_type": "code",
      "source": [
        "nums = [1, 2, 3, 4, 2, 5]\n",
        "element_to_remove = 2\n",
        "result = []\n",
        "for num in nums:\n",
        "    if num != element_to_remove:\n",
        "        result.append(num)\n",
        "print(\"Updated list:\", result)\n"
      ],
      "metadata": {
        "id": "GIN1gsytPcjS"
      },
      "execution_count": null,
      "outputs": []
    },
    {
      "cell_type": "markdown",
      "source": [
        "16. Develop a program that generates a multiplication table for numbers from 1 to 5 using a nested for loop."
      ],
      "metadata": {
        "id": "zgmYjF_nNuFJ"
      }
    },
    {
      "cell_type": "code",
      "source": [
        "nums = [1, 2, 3, 4, 2, 5]\n",
        "element_to_remove = 2\n",
        "result = []\n",
        "for num in nums:\n",
        "    if num != element_to_remove:\n",
        "        result.append(num)\n",
        "print(\"Updated list:\", result)\n"
      ],
      "metadata": {
        "id": "Vj-kAI0QPcxI"
      },
      "execution_count": null,
      "outputs": []
    },
    {
      "cell_type": "markdown",
      "source": [
        "  17. Write a program that converts a list of Fahrenheit temperatures to Celsius using a for loop."
      ],
      "metadata": {
        "id": "EZbgp4R_NuH7"
      }
    },
    {
      "cell_type": "code",
      "source": [
        "fahrenheit_temps = [32, 68, 100, 212]\n",
        "celsius_temps = []\n",
        "for temp in fahrenheit_temps:\n",
        "    celsius = (temp - 32) * 5 / 9\n",
        "    celsius_temps.append(celsius)\n",
        "print(\"Celsius temperatures:\", celsius_temps)\n"
      ],
      "metadata": {
        "id": "Gx_aq_u8RC7z"
      },
      "execution_count": null,
      "outputs": []
    },
    {
      "cell_type": "markdown",
      "source": [
        " 18. Create a program to print the common elements from two lists using a for loop."
      ],
      "metadata": {
        "id": "WPLP5DjNNuKz"
      }
    },
    {
      "cell_type": "code",
      "source": [
        "list1 = [1, 2, 3, 4]\n",
        "list2 = [3, 4, 5, 6]\n",
        "common_elements = []\n",
        "for element in list1:\n",
        "    if element in list2:\n",
        "        common_elements.append(element)\n",
        "print(\"Common elements:\", common_elements)\n"
      ],
      "metadata": {
        "id": "31ih7x8zRFI2"
      },
      "execution_count": null,
      "outputs": []
    },
    {
      "cell_type": "markdown",
      "source": [
        " 19. Develop a program that prints the pattern of right-angled triangles using a for loop. Use ‘*’ to draw the pattern"
      ],
      "metadata": {
        "id": "UczRDk9UNuNj"
      }
    },
    {
      "cell_type": "code",
      "source": [
        "list1 = [1, 2, 3, 4]\n",
        "list2 = [3, 4, 5, 6]\n",
        "common_elements = []\n",
        "for element in list1:\n",
        "    if element in list2:\n",
        "        common_elements.append(element)\n",
        "print(\"Common elements:\", common_elements)\n"
      ],
      "metadata": {
        "id": "F2wuwtneRGIx"
      },
      "execution_count": null,
      "outputs": []
    },
    {
      "cell_type": "markdown",
      "source": [
        " 20. Write a program to find the greatest common divisor (GCD) of two numbers using a for loop."
      ],
      "metadata": {
        "id": "fqTy74gVNuQd"
      }
    },
    {
      "cell_type": "code",
      "source": [
        "a = 36\n",
        "b = 60\n",
        "gcd = 1\n",
        "for i in range(1, min(a, b) + 1):\n",
        "    if a % i == 0 and b % i == 0:\n",
        "        gcd = i\n",
        "print(\"GCD:\", gcd)\n"
      ],
      "metadata": {
        "id": "CwSAfv1ERGh4"
      },
      "execution_count": null,
      "outputs": []
    },
    {
      "cell_type": "markdown",
      "source": [
        "  21. Create a program that calculates the sum of the digits of numbers in a list using a list comprehension."
      ],
      "metadata": {
        "id": "iEux27zONuTN"
      }
    },
    {
      "cell_type": "code",
      "source": [
        "numbers = [123, 456, 789]\n",
        "digit_sums = [sum(int(digit) for digit in str(num)) for num in numbers]\n",
        "print(\"Sum of digits:\", digit_sums)\n"
      ],
      "metadata": {
        "id": "yEWIwKpLRG4W"
      },
      "execution_count": null,
      "outputs": []
    },
    {
      "cell_type": "markdown",
      "source": [
        " 22. Write a program to find the prime factors of a given number using a for loop and list comprehension."
      ],
      "metadata": {
        "id": "e2n4YWz7NuV_"
      }
    },
    {
      "cell_type": "code",
      "source": [
        "numbers = [123, 456, 789]\n",
        "digit_sums = [sum(int(digit) for digit in str(num)) for num in numbers]\n",
        "print(\"Sum of digits:\", digit_sums)\n"
      ],
      "metadata": {
        "id": "O8pwrvGIRHYJ"
      },
      "execution_count": null,
      "outputs": []
    },
    {
      "cell_type": "markdown",
      "source": [
        " 23. Develop a program that extracts unique elements from a list and stores them in a new list using a list comprehension."
      ],
      "metadata": {
        "id": "4B1duBqtNuYw"
      }
    },
    {
      "cell_type": "code",
      "source": [
        "numbers = [123, 456, 789]\n",
        "digit_sums = [sum(int(digit) for digit in str(num)) for num in numbers]\n",
        "print(\"Sum of digits:\", digit_sums)\n"
      ],
      "metadata": {
        "id": "tE_6Ufk7RHuK"
      },
      "execution_count": null,
      "outputs": []
    },
    {
      "cell_type": "markdown",
      "source": [
        " 24. Create a program that generates a list of all palindromic numbers up to a specified limit using a list comprehension.\n",
        ""
      ],
      "metadata": {
        "id": "hoMt4zTtNubo"
      }
    },
    {
      "cell_type": "code",
      "source": [
        "limit = 200\n",
        "palindromes = [num for num in range(limit + 1) if str(num) == str(num)[::-1]]\n",
        "print(\"Palindromic numbers:\", palindromes)\n"
      ],
      "metadata": {
        "id": "59oxoHNORIBx"
      },
      "execution_count": null,
      "outputs": []
    },
    {
      "cell_type": "markdown",
      "source": [
        " 25. Write a program to flatten a nested list using list comprehension."
      ],
      "metadata": {
        "id": "esbjQnWcNueJ"
      }
    },
    {
      "cell_type": "code",
      "source": [
        "nested_list = [[1, 2], [3, 4], [5, 6]]\n",
        "flat_list = [item for sublist in nested_list for item in sublist]\n",
        "print(\"Flattened list:\", flat_list)\n"
      ],
      "metadata": {
        "id": "e2aMdGxgRIXx"
      },
      "execution_count": null,
      "outputs": []
    },
    {
      "cell_type": "markdown",
      "source": [
        " 26. Develop a program that computes the sum of even and odd numbers in a list separately using list comprehension.  "
      ],
      "metadata": {
        "id": "UcC6ky_7Nuj6"
      }
    },
    {
      "cell_type": "code",
      "source": [
        "numbers = [1, 2, 3, 4, 5, 6]\n",
        "sum_even = sum(num for num in numbers if num % 2 == 0)\n",
        "sum_odd = sum(num for num in numbers if num % 2 != 0)\n",
        "print(\"Sum of even numbers:\", sum_even)\n",
        "print(\"Sum of odd numbers:\", sum_odd)\n"
      ],
      "metadata": {
        "id": "KadxCAJHRI4J"
      },
      "execution_count": null,
      "outputs": []
    },
    {
      "cell_type": "markdown",
      "source": [
        " 27. Create a program that generates a list of squares of odd numbers between 1 and 10 using list comprehension."
      ],
      "metadata": {
        "id": "n4_ll0D8Num7"
      }
    },
    {
      "cell_type": "code",
      "source": [
        "squares_of_odds = [num**2 for num in range(1, 11) if num % 2 != 0]\n",
        "print(\"Squares of odd numbers:\", squares_of_odds)\n"
      ],
      "metadata": {
        "id": "QYz1lFX2RJLe"
      },
      "execution_count": null,
      "outputs": []
    },
    {
      "cell_type": "markdown",
      "source": [
        " 28. Write a program that combines two lists into a dictionary using list comprehension."
      ],
      "metadata": {
        "id": "7F5dKzx4Nupk"
      }
    },
    {
      "cell_type": "code",
      "source": [
        "keys = [\"name\", \"age\", \"city\"]\n",
        "values = [\"Alice\", 25, \"New York\"]\n",
        "combined_dict = {keys[i]: values[i] for i in range(len(keys))}\n",
        "print(\"Combined dictionary:\", combined_dict)\n"
      ],
      "metadata": {
        "id": "4Kswg66eRJfZ"
      },
      "execution_count": null,
      "outputs": []
    },
    {
      "cell_type": "markdown",
      "source": [
        " 29. Develop a program that extracts the vowels from a string and stores them in a list using list comprehension."
      ],
      "metadata": {
        "id": "Lw9x_x6INusO"
      }
    },
    {
      "cell_type": "code",
      "source": [
        "keys = [\"name\", \"age\", \"city\"]\n",
        "values = [\"Alice\", 25, \"New York\"]\n",
        "combined_dict = {keys[i]: values[i] for i in range(len(keys))}\n",
        "print(\"Combined dictionary:\", combined_dict)\n"
      ],
      "metadata": {
        "id": "kLDqal8ERJ8D"
      },
      "execution_count": null,
      "outputs": []
    },
    {
      "cell_type": "markdown",
      "source": [
        "  30. Create a program that removes all non-numeric characters from a list of strings using list comprehension.   "
      ],
      "metadata": {
        "id": "WVVQIOPeNuum"
      }
    },
    {
      "cell_type": "code",
      "source": [
        "strings = [\"abc123\", \"456def\", \"78gh90\"]\n",
        "numeric_parts = [\"\".join(char for char in string if char.isdigit()) for string in strings]\n",
        "print(\"Numeric parts:\", numeric_parts)\n"
      ],
      "metadata": {
        "id": "F49cZKNhRKcF"
      },
      "execution_count": null,
      "outputs": []
    },
    {
      "cell_type": "markdown",
      "source": [
        " 31. Write a program to generate a list of prime numbers using the Sieve of Eratosthenes algorithm and list comprehension."
      ],
      "metadata": {
        "id": "dkldtQDeNuxm"
      }
    },
    {
      "cell_type": "code",
      "source": [
        "limit = 50\n",
        "primes = [True] * (limit + 1)  # True for all numbers initially\n",
        "primes[0] = primes[1] = False  # 0 and 1 are not primes\n",
        "\n",
        "for i in range(2, int(limit ** 0.5) + 1):\n",
        "    if primes[i]:\n",
        "        for multiple in range(i * i, limit + 1, i):\n",
        "            primes[multiple] = False\n",
        "\n",
        "prime_numbers = [i for i, is_prime in enumerate(primes) if is_prime]\n",
        "print(\"Prime numbers up to\", limit, \":\", prime_numbers)\n"
      ],
      "metadata": {
        "id": "CYebK9PHRK1h"
      },
      "execution_count": null,
      "outputs": []
    },
    {
      "cell_type": "markdown",
      "source": [
        " 32. Create a program that generates a list of all Pythagorean triplets up to a specified limit using list comprehension."
      ],
      "metadata": {
        "id": "mnr0w_TpNu0f"
      }
    },
    {
      "cell_type": "code",
      "source": [
        "limit = 30\n",
        "triplets = [(a, b, c) for a in range(1, limit + 1)\n",
        "                     for b in range(a, limit + 1)\n",
        "                     for c in range(b, limit + 1)\n",
        "                     if a**2 + b**2 == c**2]\n",
        "print(\"Pythagorean triplets up to\", limit, \":\", triplets)\n"
      ],
      "metadata": {
        "id": "BOwCEzylRMKk"
      },
      "execution_count": null,
      "outputs": []
    },
    {
      "cell_type": "markdown",
      "source": [
        "33. Develop a program that generates a list of all possible combinations of two lists using list comprehension.\n"
      ],
      "metadata": {
        "id": "lXkBeNKSNu3A"
      }
    },
    {
      "cell_type": "code",
      "source": [
        "list1 = [1, 2, 3]\n",
        "list2 = ['a', 'b', 'c']\n",
        "combinations = [(x, y) for x in list1 for y in list2]\n",
        "print(\"Combinations:\", combinations)\n"
      ],
      "metadata": {
        "id": "79CC5UajRMiM"
      },
      "execution_count": null,
      "outputs": []
    },
    {
      "cell_type": "markdown",
      "source": [
        "34. Write a program that calculates the mean, median, and mode of a list of numbers using list\n",
        "comprehension.\n"
      ],
      "metadata": {
        "id": "qQLye6uGNu55"
      }
    },
    {
      "cell_type": "code",
      "source": [
        "from statistics import mean, median, mode\n",
        "\n",
        "numbers = [1, 2, 3, 4, 4, 5]\n",
        "mean_value = mean(numbers)\n",
        "median_value = median(numbers)\n",
        "mode_value = mode(numbers)\n",
        "\n",
        "print(\"Mean:\", mean_value)\n",
        "print(\"Median:\", median_value)\n",
        "print(\"Mode:\", mode_value)\n"
      ],
      "metadata": {
        "id": "-0WliLa1RM6E"
      },
      "execution_count": null,
      "outputs": []
    },
    {
      "cell_type": "markdown",
      "source": [
        "35. Create a program that generates Pascal's triangle up to a specified number of rows using list\n",
        "comprehension.\n"
      ],
      "metadata": {
        "id": "HBm-HSl-Nu8p"
      }
    },
    {
      "cell_type": "code",
      "source": [
        "rows = 5\n",
        "pascal_triangle = [[1 if col == 0 or col == row else pascal_triangle[row-1][col-1] + pascal_triangle[row-1][col]\n",
        "                    for col in range(row + 1)] for row in range(rows)]\n",
        "print(\"Pascal's Triangle:\")\n",
        "for row in pascal_triangle:\n",
        "    print(row)\n"
      ],
      "metadata": {
        "id": "ZqVHhlFIRNlO"
      },
      "execution_count": null,
      "outputs": []
    },
    {
      "cell_type": "markdown",
      "source": [
        "36. Develop a program that calculates the sum of the digits of a factorial of numbers from 1 to 5 using list\n",
        "comprehension.\n"
      ],
      "metadata": {
        "id": "gLwCbrKRNvB8"
      }
    },
    {
      "cell_type": "code",
      "source": [
        "from math import factorial\n",
        "\n",
        "digit_sums = [sum(int(digit) for digit in str(factorial(num))) for num in range(1, 6)]\n",
        "print(\"Sum of digits of factorials:\", digit_sums)\n"
      ],
      "metadata": {
        "id": "zgqR9WndRQMG"
      },
      "execution_count": null,
      "outputs": []
    },
    {
      "cell_type": "markdown",
      "source": [
        "37. Write a program that finds the longest word in a sentence using list comprehension.\n"
      ],
      "metadata": {
        "id": "sAVR3-OINvEx"
      }
    },
    {
      "cell_type": "code",
      "source": [
        "sentence = \"Find the longest word in this simple sentence\"\n",
        "words = sentence.split()\n",
        "longest_word = max(words, key=len)\n",
        "print(\"Longest word:\", longest_word)\n"
      ],
      "metadata": {
        "id": "N8Gdcdm3RQ9r"
      },
      "execution_count": null,
      "outputs": []
    },
    {
      "cell_type": "markdown",
      "source": [
        "38. Create a program that filters a list of strings to include only those with more than three vowels using list\n",
        "comprehension.\n"
      ],
      "metadata": {
        "id": "awifuIwKNvG9"
      }
    },
    {
      "cell_type": "code",
      "source": [
        "strings = [\"beautiful\", \"apple\", \"orange\", \"sky\", \"umbrella\"]\n",
        "result = [word for word in strings if sum(1 for char in word if char.lower() in \"aeiou\") > 3]\n",
        "print(\"Strings with more than three vowels:\", result)\n",
        "\n"
      ],
      "metadata": {
        "id": "DFzfzXtjRRYd"
      },
      "execution_count": null,
      "outputs": []
    },
    {
      "cell_type": "markdown",
      "source": [
        "39. Develop a program that calculates the sum of the digits of numbers from 1 to 1000 using list\n",
        "comprehension.\n"
      ],
      "metadata": {
        "id": "7T3OxDqsNvJj"
      }
    },
    {
      "cell_type": "code",
      "source": [
        "digit_sums = [sum(int(digit) for digit in str(num)) for num in range(1, 1001)]\n",
        "print(\"Sum of digits from 1 to 1000:\", sum(digit_sums))\n"
      ],
      "metadata": {
        "id": "5MjMvNPYRR7F"
      },
      "execution_count": null,
      "outputs": []
    },
    {
      "cell_type": "markdown",
      "source": [
        "40. Write a program that generates a list of prime palindromic numbers using list comprehension."
      ],
      "metadata": {
        "id": "0HQElurTNvMs"
      }
    },
    {
      "cell_type": "code",
      "source": [
        "limit = 1000\n",
        "prime_palindromes = [num for num in range(2, limit + 1)\n",
        "                     if str(num) == str(num)[::-1] and all(num % i != 0 for i in range(2, int(num**0.5) + 1))]\n",
        "print(\"Prime palindromic numbers:\", prime_palindromes)\n"
      ],
      "metadata": {
        "id": "bRIV0VkhRSWE"
      },
      "execution_count": null,
      "outputs": []
    }
  ]
}